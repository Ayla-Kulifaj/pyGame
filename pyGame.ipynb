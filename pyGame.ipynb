{
 "cells": [
  {
   "cell_type": "code",
   "execution_count": null,
   "id": "502fd914-275c-41ae-a9e8-8dedcf57ee3b",
   "metadata": {},
   "outputs": [
    {
     "name": "stdout",
     "output_type": "stream",
     "text": [
      "Welcome to the Treasure Hunt!\n",
      "You are a treasure hunter entering a mysterious cave seeking the legendary Lost Amulet of Tharion.\n"
     ]
    }
   ],
   "source": [
    "def adventure_game():\n",
    "    playing = True\n",
    "    while playing:\n",
    "        print(\"Welcome to the Treasure Hunt!\")\n",
    "        print(\"You are a treasure hunter entering a mysterious cave seeking the legendary Lost Gem of Minneapolis.\")\n",
    "        \n",
    "        choice = input(\"You see three tunnels. Choose one to explore (left/middle/right): \").lower()\n",
    "        while choice not in ['left', 'middle', 'right']:\n",
    "            print(\"Invalid choice. Please choose left, middle, or right.\")\n",
    "            choice = input(\"Choose one to explore (left/middle/right): \").lower()\n",
    "\n",
    "        if choice == 'left':\n",
    "            print(\"You enter the left tunnel. It's dark and cold.\")\n",
    "            decision = input(\"You come across a strange glowing stone on the ground. Do you pick it up? (yes/no): \").lower()\n",
    "            if decision == 'yes':\n",
    "                print(\"The stone is actually a magical artifact that illuminates your path and reveals a hidden door leading to a treasure room. You've found the Gem!\")\n",
    "            else:\n",
    "                print(\"You ignore the stone and proceed, but without its light, you miss the hidden door. You leave the cave empty-handed.\")\n",
    "        \n",
    "        elif choice == 'middle':\n",
    "            print(\"You enter the middle tunnel. The path is clear.\")\n",
    "            decision = input(\"You find a map on the floor. Do you study the map? (yes/no): \").lower()\n",
    "            if decision == 'yes':\n",
    "                print(\"The map reveals a secret shortcut to the Gem, allowing you to bypass various traps. Congratulations, you've found the Gem!\")\n",
    "            else:\n",
    "                print(\"You ignore the map and get lost in the tunnel, eventually having to turn back. You leave the cave without the Gem.\")\n",
    "        \n",
    "        elif choice == 'right':\n",
    "            print(\"You choose the right tunnel and hear the sound of running water.\")\n",
    "            decision = input(\"The path splits. Do you follow the sound of water, or take the dry path? (water/dry): \").lower()\n",
    "            if decision == 'water':\n",
    "                print(\"Following the water leads you to a beautiful underground lake, but there's no amulet. You return safely but empty-handed.\")\n",
    "            else:\n",
    "                print(\"The dry path leads to a cave-in. You narrowly escape but find nothing. You leave the cave, grateful to be alive.\")\n",
    "\n",
    "        play_again = input(\"Would you like to play again? (yes/no): \").lower()\n",
    "        if play_again != 'yes':\n",
    "            playing = False\n",
    "            print(\"Thank you for playing! Goodbye!\")\n",
    "\n",
    "adventure_game()\n"
   ]
  },
  {
   "cell_type": "code",
   "execution_count": null,
   "id": "fc737ffb-373d-46fb-9d50-0ce97b35e839",
   "metadata": {},
   "outputs": [],
   "source": []
  }
 ],
 "metadata": {
  "kernelspec": {
   "display_name": "Python 3 (ipykernel)",
   "language": "python",
   "name": "python3"
  },
  "language_info": {
   "codemirror_mode": {
    "name": "ipython",
    "version": 3
   },
   "file_extension": ".py",
   "mimetype": "text/x-python",
   "name": "python",
   "nbconvert_exporter": "python",
   "pygments_lexer": "ipython3",
   "version": "3.12.4"
  }
 },
 "nbformat": 4,
 "nbformat_minor": 5
}
